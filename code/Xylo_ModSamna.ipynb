{
 "cells": [
  {
   "cell_type": "code",
   "execution_count": 1,
   "metadata": {},
   "outputs": [
    {
     "name": "stderr",
     "output_type": "stream",
     "text": [
      "/home/ruixing/anaconda3/envs/eeg/lib/python3.8/site-packages/tqdm/auto.py:22: TqdmWarning: IProgress not found. Please update jupyter and ipywidgets. See https://ipywidgets.readthedocs.io/en/stable/user_install.html\n",
      "  from .autonotebook import tqdm as notebook_tqdm\n"
     ]
    }
   ],
   "source": [
    "# - Numpy\n",
    "import numpy as np\n",
    "import torch\n",
    "from rockpool.nn.modules import LinearTorch, LIFTorch\n",
    "from rockpool.parameters import Constant\n",
    "from rockpool.nn.combinators import Sequential\n",
    "# - Matplotlib\n",
    "import matplotlib.pyplot as plt\n",
    "%matplotlib inline\n",
    "plt.rcParams['figure.figsize'] = [12, 4]\n",
    "plt.rcParams['figure.dpi'] = 300\n",
    "\n",
    "# - Rockpool time-series handling\n",
    "from rockpool import TSEvent, TSContinuous\n",
    "\n",
    "# - Pretty printing\n",
    "try:\n",
    "    from rich import print\n",
    "except:\n",
    "    pass\n",
    "\n",
    "# - Display images\n",
    "from IPython.display import Image\n",
    "\n",
    "# - Disable warnings\n",
    "import warnings\n",
    "warnings.filterwarnings('ignore')\n",
    "from rockpool.nn.networks.wavesense import WaveSenseNet\n",
    "from rockpool.transform import quantize_methods as q\n",
    "from torch.utils.data import Dataset\n",
    "from torch.utils.data import DataLoader\n",
    "from pathlib import Path\n",
    "from tqdm.asyncio import tqdm"
   ]
  },
  {
   "cell_type": "code",
   "execution_count": 2,
   "metadata": {},
   "outputs": [],
   "source": [
    "class Dataset(Dataset):\n",
    "    def __init__(self,root_pos,root_neg):\n",
    "        self.sample = []\n",
    "        pos_dir = Path(root_pos)\n",
    "        neg_dir = Path(root_neg)\n",
    "        for i in sorted(pos_dir.rglob('*.npy')):\n",
    "            if (str(i.parts[-1][9:16]) != 'trail1_'):\n",
    "                array = np.load(str(i),allow_pickle=True)\n",
    "                tensor = torch.from_numpy(array.T)\n",
    "                tensor = torch.tensor(tensor,dtype=torch.float)\n",
    "                condititon = [tensor,torch.tensor(1)]\n",
    "                self.sample.append(condititon)\n",
    "                condititon = []\n",
    "        for i in sorted(neg_dir.rglob('*.npy')):\n",
    "            if (str(i.parts[-1][9:16]) != 'trail1_'):\n",
    "                array = np.load(str(i))\n",
    "                tensor = torch.from_numpy(array.T)\n",
    "                tensor = torch.tensor(tensor,dtype=torch.float)\n",
    "                condititon = [tensor,torch.tensor(0)]\n",
    "                self.sample.append(condititon)\n",
    "                condititon = []\n",
    "                \n",
    "            \n",
    "    def __getitem__(self,idx):\n",
    "        data = self.sample[idx][0]\n",
    "        label = self.sample[idx][1]\n",
    "        return data,label\n",
    "    \n",
    "    def __len__(self):\n",
    "        return len(self.sample)\n",
    "    \n",
    "dataset_test = Dataset('/home/ruixing/workspace/chbtar/chb/data/test_data/spike/pos',\n",
    "                       '/home/ruixing/workspace/chbtar/chb/data/test_data/spike/neg')\n",
    "spiking_test_dataloader = DataLoader(dataset_test,batch_size=1,shuffle=True)"
   ]
  },
  {
   "cell_type": "code",
   "execution_count": 3,
   "metadata": {},
   "outputs": [],
   "source": [
    "dilations = [2, 32]\n",
    "n_out_neurons = 2\n",
    "n_inp_neurons = 4\n",
    "n_neurons = 32\n",
    "kernel_size = 2\n",
    "tau_mem = 0.002\n",
    "base_tau_syn = 0.002\n",
    "tau_lp = 0.01\n",
    "threshold = 0.6\n",
    "dt = 0.001\n",
    "net = WaveSenseNet(\n",
    "    dilations=dilations,\n",
    "    n_classes=n_out_neurons,\n",
    "    n_channels_in=n_inp_neurons,#in_channel\n",
    "    n_channels_res=n_neurons,\n",
    "    n_channels_skip=n_neurons,\n",
    "    n_hidden=n_neurons,\n",
    "    kernel_size=kernel_size,\n",
    "    bias=Constant(0.0),\n",
    "    smooth_output=True,\n",
    "    tau_mem=Constant(tau_mem),\n",
    "    base_tau_syn=base_tau_syn,\n",
    "    tau_lp=tau_lp,\n",
    "    threshold=Constant(threshold),\n",
    "    neuron_model=LIFTorch,\n",
    "    dt=dt,\n",
    ")\n",
    "net.load('/home/ruixing/workspace/chbtar/chb/models/SNN_model_Isyn.pth')"
   ]
  },
  {
   "cell_type": "code",
   "execution_count": 4,
   "metadata": {},
   "outputs": [
    {
     "name": "stdout",
     "output_type": "stream",
     "text": [
      "The connected Xylo HDK contains a Xylo Audio v2 (SYNS61201). Importing `rockpool.devices.xylo.syns61201`\n"
     ]
    }
   ],
   "source": [
    "# - Import the Xylo HDK detection function\n",
    "from rockpool.devices.xylo import find_xylo_hdks\n",
    "\n",
    "# - Detect a connected HDK and import the required support package\n",
    "connected_hdks, support_modules, chip_versions = find_xylo_hdks()\n",
    "\n",
    "found_xylo = len(connected_hdks) > 0\n",
    "\n",
    "if found_xylo:\n",
    "    hdk = connected_hdks[0]\n",
    "    x = support_modules[0]\n",
    "else:\n",
    "    assert False, 'This tutorial requires a connected Xylo HDK to run.'\n"
   ]
  },
  {
   "cell_type": "code",
   "execution_count": 5,
   "metadata": {},
   "outputs": [],
   "source": [
    "spec = x.mapper(net.as_graph(), weight_dtype = 'float')\n",
    "spec.update(q.global_quantize(**spec))"
   ]
  },
  {
   "cell_type": "code",
   "execution_count": 6,
   "metadata": {},
   "outputs": [
    {
     "ename": "ValueError",
     "evalue": "Invalid configuration for the Xylo HDK: Reservoir neuron 68 fanout must be in [0,63]. Actual: 64\nReservoir neuron 76 fanout must be in [0,63]. Actual: 64\nReservoir neuron 79 fanout must be in [0,63]. Actual: 64\nReservoir neuron 86 fanout must be in [0,63]. Actual: 64\nReservoir neuron 91 fanout must be in [0,63]. Actual: 64\nReservoir neuron 94 fanout must be in [0,63]. Actual: 64\nReservoir neuron 160 fanout must be in [0,63]. Actual: 64\nReservoir neuron 162 fanout must be in [0,63]. Actual: 64\nReservoir neuron 168 fanout must be in [0,63]. Actual: 64\nReservoir neuron 174 fanout must be in [0,63]. Actual: 64\nReservoir neuron 179 fanout must be in [0,63]. Actual: 64\nReservoir neuron 182 fanout must be in [0,63]. Actual: 64\nReservoir neuron 183 fanout must be in [0,63]. Actual: 64\nReservoir neuron 184 fanout must be in [0,63]. Actual: 64\nReservoir neuron 189 fanout must be in [0,63]. Actual: 64\n",
     "output_type": "error",
     "traceback": [
      "\u001b[0;31m---------------------------------------------------------------------------\u001b[0m",
      "\u001b[0;31mValueError\u001b[0m                                Traceback (most recent call last)",
      "\u001b[0;32m/tmp/ipykernel_46426/2815858383.py\u001b[0m in \u001b[0;36m<module>\u001b[0;34m\u001b[0m\n\u001b[1;32m      3\u001b[0m \u001b[0;31m# - Use rockpool.devices.xylo.XyloSamna to deploy to the HDK\u001b[0m\u001b[0;34m\u001b[0m\u001b[0;34m\u001b[0m\u001b[0;34m\u001b[0m\u001b[0m\n\u001b[1;32m      4\u001b[0m \u001b[0;32mif\u001b[0m \u001b[0mfound_xylo\u001b[0m\u001b[0;34m:\u001b[0m\u001b[0;34m\u001b[0m\u001b[0;34m\u001b[0m\u001b[0m\n\u001b[0;32m----> 5\u001b[0;31m     \u001b[0mmodSamna\u001b[0m \u001b[0;34m=\u001b[0m \u001b[0mx\u001b[0m\u001b[0;34m.\u001b[0m\u001b[0mXyloSamna\u001b[0m\u001b[0;34m(\u001b[0m\u001b[0mhdk\u001b[0m\u001b[0;34m,\u001b[0m \u001b[0mconfig\u001b[0m\u001b[0;34m,\u001b[0m \u001b[0mdt\u001b[0m \u001b[0;34m=\u001b[0m \u001b[0mdt\u001b[0m\u001b[0;34m)\u001b[0m\u001b[0;34m\u001b[0m\u001b[0;34m\u001b[0m\u001b[0m\n\u001b[0m\u001b[1;32m      6\u001b[0m     \u001b[0mprint\u001b[0m\u001b[0;34m(\u001b[0m\u001b[0mmodSamna\u001b[0m\u001b[0;34m)\u001b[0m\u001b[0;34m\u001b[0m\u001b[0;34m\u001b[0m\u001b[0m\n",
      "\u001b[0;32m~/anaconda3/envs/eeg/lib/python3.8/site-packages/rockpool/nn/modules/module.py\u001b[0m in \u001b[0;36m__call__\u001b[0;34m(cls, *args, **kwargs)\u001b[0m\n\u001b[1;32m    675\u001b[0m     \u001b[0;32mdef\u001b[0m \u001b[0m__call__\u001b[0m\u001b[0;34m(\u001b[0m\u001b[0mcls\u001b[0m\u001b[0;34m,\u001b[0m \u001b[0;34m*\u001b[0m\u001b[0margs\u001b[0m\u001b[0;34m,\u001b[0m \u001b[0;34m**\u001b[0m\u001b[0mkwargs\u001b[0m\u001b[0;34m)\u001b[0m\u001b[0;34m:\u001b[0m\u001b[0;34m\u001b[0m\u001b[0;34m\u001b[0m\u001b[0m\n\u001b[1;32m    676\u001b[0m         \u001b[0;31m# - Instantiate the object\u001b[0m\u001b[0;34m\u001b[0m\u001b[0;34m\u001b[0m\u001b[0;34m\u001b[0m\u001b[0m\n\u001b[0;32m--> 677\u001b[0;31m         \u001b[0mobj\u001b[0m \u001b[0;34m=\u001b[0m \u001b[0msuper\u001b[0m\u001b[0;34m(\u001b[0m\u001b[0;34m)\u001b[0m\u001b[0;34m.\u001b[0m\u001b[0m__call__\u001b[0m\u001b[0;34m(\u001b[0m\u001b[0;34m*\u001b[0m\u001b[0margs\u001b[0m\u001b[0;34m,\u001b[0m \u001b[0;34m**\u001b[0m\u001b[0mkwargs\u001b[0m\u001b[0;34m)\u001b[0m\u001b[0;34m\u001b[0m\u001b[0;34m\u001b[0m\u001b[0m\n\u001b[0m\u001b[1;32m    678\u001b[0m \u001b[0;34m\u001b[0m\u001b[0m\n\u001b[1;32m    679\u001b[0m         \u001b[0;31m# - Check for a `__post_init__` method\u001b[0m\u001b[0;34m\u001b[0m\u001b[0;34m\u001b[0m\u001b[0;34m\u001b[0m\u001b[0m\n",
      "\u001b[0;32m~/anaconda3/envs/eeg/lib/python3.8/site-packages/rockpool/devices/xylo/syns61201/xylo_samna.py\u001b[0m in \u001b[0;36m__init__\u001b[0;34m(self, device, config, dt, output_mode, power_frequency, *args, **kwargs)\u001b[0m\n\u001b[1;32m    401\u001b[0m \u001b[0;34m\u001b[0m\u001b[0m\n\u001b[1;32m    402\u001b[0m         \u001b[0;31m# - Store the configuration (and apply it)\u001b[0m\u001b[0;34m\u001b[0m\u001b[0;34m\u001b[0m\u001b[0;34m\u001b[0m\u001b[0m\n\u001b[0;32m--> 403\u001b[0;31m         self.config: Union[\n\u001b[0m\u001b[1;32m    404\u001b[0m             \u001b[0mXyloConfiguration\u001b[0m\u001b[0;34m,\u001b[0m \u001b[0mSimulationParameter\u001b[0m\u001b[0;34m\u001b[0m\u001b[0;34m\u001b[0m\u001b[0m\n\u001b[1;32m    405\u001b[0m         ] = SimulationParameter(shape=(), init_func=lambda _: config)\n",
      "\u001b[0;32m~/anaconda3/envs/eeg/lib/python3.8/site-packages/rockpool/nn/modules/module.py\u001b[0m in \u001b[0;36m__setattr__\u001b[0;34m(self, name, val)\u001b[0m\n\u001b[1;32m    173\u001b[0m \u001b[0;34m\u001b[0m\u001b[0m\n\u001b[1;32m    174\u001b[0m         \u001b[0;31m# - Assign attribute to self\u001b[0m\u001b[0;34m\u001b[0m\u001b[0;34m\u001b[0m\u001b[0;34m\u001b[0m\u001b[0m\n\u001b[0;32m--> 175\u001b[0;31m         \u001b[0msuper\u001b[0m\u001b[0;34m(\u001b[0m\u001b[0;34m)\u001b[0m\u001b[0;34m.\u001b[0m\u001b[0m__setattr__\u001b[0m\u001b[0;34m(\u001b[0m\u001b[0mname\u001b[0m\u001b[0;34m,\u001b[0m \u001b[0mval\u001b[0m\u001b[0;34m)\u001b[0m\u001b[0;34m\u001b[0m\u001b[0;34m\u001b[0m\u001b[0m\n\u001b[0m\u001b[1;32m    176\u001b[0m \u001b[0;34m\u001b[0m\u001b[0m\n\u001b[1;32m    177\u001b[0m     \u001b[0;32mdef\u001b[0m \u001b[0m__delattr__\u001b[0m\u001b[0;34m(\u001b[0m\u001b[0mself\u001b[0m\u001b[0;34m,\u001b[0m \u001b[0mname\u001b[0m\u001b[0;34m:\u001b[0m \u001b[0mstr\u001b[0m\u001b[0;34m)\u001b[0m\u001b[0;34m:\u001b[0m\u001b[0;34m\u001b[0m\u001b[0;34m\u001b[0m\u001b[0m\n",
      "\u001b[0;32m~/anaconda3/envs/eeg/lib/python3.8/site-packages/rockpool/devices/xylo/syns61201/xylo_samna.py\u001b[0m in \u001b[0;36mconfig\u001b[0;34m(self, new_config)\u001b[0m\n\u001b[1;32m    432\u001b[0m         \u001b[0mis_valid\u001b[0m\u001b[0;34m,\u001b[0m \u001b[0mmsg\u001b[0m \u001b[0;34m=\u001b[0m \u001b[0msamna\u001b[0m\u001b[0;34m.\u001b[0m\u001b[0mxyloCore2\u001b[0m\u001b[0;34m.\u001b[0m\u001b[0mvalidate_configuration\u001b[0m\u001b[0;34m(\u001b[0m\u001b[0mnew_config\u001b[0m\u001b[0;34m)\u001b[0m\u001b[0;34m\u001b[0m\u001b[0;34m\u001b[0m\u001b[0m\n\u001b[1;32m    433\u001b[0m         \u001b[0;32mif\u001b[0m \u001b[0;32mnot\u001b[0m \u001b[0mis_valid\u001b[0m\u001b[0;34m:\u001b[0m\u001b[0;34m\u001b[0m\u001b[0;34m\u001b[0m\u001b[0m\n\u001b[0;32m--> 434\u001b[0;31m             \u001b[0;32mraise\u001b[0m \u001b[0mValueError\u001b[0m\u001b[0;34m(\u001b[0m\u001b[0;34mf\"Invalid configuration for the Xylo HDK: {msg}\"\u001b[0m\u001b[0;34m)\u001b[0m\u001b[0;34m\u001b[0m\u001b[0;34m\u001b[0m\u001b[0m\n\u001b[0m\u001b[1;32m    435\u001b[0m \u001b[0;34m\u001b[0m\u001b[0m\n\u001b[1;32m    436\u001b[0m         \u001b[0;31m# - Write the configuration to the device\u001b[0m\u001b[0;34m\u001b[0m\u001b[0;34m\u001b[0m\u001b[0;34m\u001b[0m\u001b[0m\n",
      "\u001b[0;31mValueError\u001b[0m: Invalid configuration for the Xylo HDK: Reservoir neuron 68 fanout must be in [0,63]. Actual: 64\nReservoir neuron 76 fanout must be in [0,63]. Actual: 64\nReservoir neuron 79 fanout must be in [0,63]. Actual: 64\nReservoir neuron 86 fanout must be in [0,63]. Actual: 64\nReservoir neuron 91 fanout must be in [0,63]. Actual: 64\nReservoir neuron 94 fanout must be in [0,63]. Actual: 64\nReservoir neuron 160 fanout must be in [0,63]. Actual: 64\nReservoir neuron 162 fanout must be in [0,63]. Actual: 64\nReservoir neuron 168 fanout must be in [0,63]. Actual: 64\nReservoir neuron 174 fanout must be in [0,63]. Actual: 64\nReservoir neuron 179 fanout must be in [0,63]. Actual: 64\nReservoir neuron 182 fanout must be in [0,63]. Actual: 64\nReservoir neuron 183 fanout must be in [0,63]. Actual: 64\nReservoir neuron 184 fanout must be in [0,63]. Actual: 64\nReservoir neuron 189 fanout must be in [0,63]. Actual: 64\n"
     ]
    }
   ],
   "source": [
    "# - Use rockpool.devices.xylo.config_from_specification\n",
    "config, is_valid, msg = x.config_from_specification(**spec)\n",
    "# - Use rockpool.devices.xylo.XyloSamna to deploy to the HDK\n",
    "if found_xylo:\n",
    "    modSamna = x.XyloSamna(hdk, config, dt = dt)\n",
    "    print(modSamna)"
   ]
  },
  {
   "cell_type": "code",
   "execution_count": 7,
   "metadata": {},
   "outputs": [
    {
     "name": "stderr",
     "output_type": "stream",
     "text": [
      "  0%|\u001b[33m          \u001b[0m| 0/395 [00:20<?, ?it/s]\n"
     ]
    },
    {
     "ename": "TimeoutError",
     "evalue": "Processing didn't finish for 20s. Read 0 events",
     "output_type": "error",
     "traceback": [
      "\u001b[0;31m---------------------------------------------------------------------------\u001b[0m",
      "\u001b[0;31mTimeoutError\u001b[0m                              Traceback (most recent call last)",
      "\u001b[0;32m/tmp/ipykernel_67119/2218584754.py\u001b[0m in \u001b[0;36m<module>\u001b[0;34m\u001b[0m\n\u001b[1;32m      8\u001b[0m     \u001b[0mdata\u001b[0m \u001b[0;34m=\u001b[0m \u001b[0mdata\u001b[0m\u001b[0;34m.\u001b[0m\u001b[0mastype\u001b[0m\u001b[0;34m(\u001b[0m\u001b[0mint\u001b[0m\u001b[0;34m)\u001b[0m\u001b[0;34m\u001b[0m\u001b[0;34m\u001b[0m\u001b[0m\n\u001b[1;32m      9\u001b[0m     \u001b[0mdata\u001b[0m \u001b[0;34m=\u001b[0m \u001b[0;34m(\u001b[0m\u001b[0mdata\u001b[0m\u001b[0;34m*\u001b[0m\u001b[0;36m20\u001b[0m\u001b[0;34m)\u001b[0m\u001b[0;34m.\u001b[0m\u001b[0mclip\u001b[0m\u001b[0;34m(\u001b[0m\u001b[0;36m0\u001b[0m\u001b[0;34m,\u001b[0m \u001b[0;36m15\u001b[0m\u001b[0;34m)\u001b[0m\u001b[0;34m\u001b[0m\u001b[0;34m\u001b[0m\u001b[0m\n\u001b[0;32m---> 10\u001b[0;31m     \u001b[0moutput\u001b[0m\u001b[0;34m,\u001b[0m \u001b[0mstate\u001b[0m\u001b[0;34m,\u001b[0m \u001b[0mrecordings\u001b[0m \u001b[0;34m=\u001b[0m \u001b[0mmodSamna\u001b[0m\u001b[0;34m(\u001b[0m\u001b[0mdata\u001b[0m\u001b[0;34m,\u001b[0m\u001b[0mrecord\u001b[0m\u001b[0;34m=\u001b[0m\u001b[0;32mTrue\u001b[0m\u001b[0;34m,\u001b[0m\u001b[0mread_timeout\u001b[0m\u001b[0;34m=\u001b[0m\u001b[0;36m20\u001b[0m\u001b[0;34m)\u001b[0m\u001b[0;34m\u001b[0m\u001b[0;34m\u001b[0m\u001b[0m\n\u001b[0m\u001b[1;32m     11\u001b[0m     \u001b[0mout\u001b[0m \u001b[0;34m=\u001b[0m \u001b[0mrecordings\u001b[0m\u001b[0;34m[\u001b[0m\u001b[0;34m'Vmem_out'\u001b[0m\u001b[0;34m]\u001b[0m\u001b[0;34m.\u001b[0m\u001b[0msqueeze\u001b[0m\u001b[0;34m(\u001b[0m\u001b[0;34m)\u001b[0m\u001b[0;34m\u001b[0m\u001b[0;34m\u001b[0m\u001b[0m\n\u001b[1;32m     12\u001b[0m     \u001b[0;31m# print(np.any(out))\u001b[0m\u001b[0;34m\u001b[0m\u001b[0;34m\u001b[0m\u001b[0;34m\u001b[0m\u001b[0m\n",
      "\u001b[0;32m~/anaconda3/envs/eeg/lib/python3.8/site-packages/rockpool/nn/modules/module.py\u001b[0m in \u001b[0;36m__call__\u001b[0;34m(self, input_data, *args, **kwargs)\u001b[0m\n\u001b[1;32m    630\u001b[0m             \u001b[0mrecorded_state\u001b[0m\u001b[0;34m.\u001b[0m\u001b[0mupdate\u001b[0m\u001b[0;34m(\u001b[0m\u001b[0;34m{\u001b[0m\u001b[0mself\u001b[0m\u001b[0;34m.\u001b[0m\u001b[0mname\u001b[0m\u001b[0;34m:\u001b[0m \u001b[0mthis_recorded_state\u001b[0m\u001b[0;34m}\u001b[0m\u001b[0;34m)\u001b[0m\u001b[0;34m\u001b[0m\u001b[0;34m\u001b[0m\u001b[0m\n\u001b[1;32m    631\u001b[0m         \u001b[0;32melse\u001b[0m\u001b[0;34m:\u001b[0m\u001b[0;34m\u001b[0m\u001b[0;34m\u001b[0m\u001b[0m\n\u001b[0;32m--> 632\u001b[0;31m             outputs, new_state, recorded_state = self.evolve(\n\u001b[0m\u001b[1;32m    633\u001b[0m                 \u001b[0minput_data\u001b[0m\u001b[0;34m,\u001b[0m \u001b[0;34m*\u001b[0m\u001b[0margs\u001b[0m\u001b[0;34m,\u001b[0m \u001b[0;34m**\u001b[0m\u001b[0mkwargs\u001b[0m\u001b[0;34m\u001b[0m\u001b[0;34m\u001b[0m\u001b[0m\n\u001b[1;32m    634\u001b[0m             )\n",
      "\u001b[0;32m~/anaconda3/envs/eeg/lib/python3.8/site-packages/rockpool/devices/xylo/syns61201/xylo_samna.py\u001b[0m in \u001b[0;36mevolve\u001b[0;34m(self, input, record, read_timeout, record_power, *args, **kwargs)\u001b[0m\n\u001b[1;32m    580\u001b[0m             \u001b[0;32mif\u001b[0m \u001b[0mlen\u001b[0m\u001b[0;34m(\u001b[0m\u001b[0mreadout_events\u001b[0m\u001b[0;34m)\u001b[0m \u001b[0;34m>\u001b[0m \u001b[0;36m0\u001b[0m\u001b[0;34m:\u001b[0m\u001b[0;34m\u001b[0m\u001b[0;34m\u001b[0m\u001b[0m\n\u001b[1;32m    581\u001b[0m                 \u001b[0mmessage\u001b[0m \u001b[0;34m+=\u001b[0m \u001b[0;34mf\", first timestamp: {readout_events[0].timestamp}, final timestamp: {readout_events[-1].timestamp}, target timestamp: {final_timestamp}\"\u001b[0m\u001b[0;34m\u001b[0m\u001b[0;34m\u001b[0m\u001b[0m\n\u001b[0;32m--> 582\u001b[0;31m             \u001b[0;32mraise\u001b[0m \u001b[0mTimeoutError\u001b[0m\u001b[0;34m(\u001b[0m\u001b[0mmessage\u001b[0m\u001b[0;34m)\u001b[0m\u001b[0;34m\u001b[0m\u001b[0;34m\u001b[0m\u001b[0m\n\u001b[0m\u001b[1;32m    583\u001b[0m \u001b[0;34m\u001b[0m\u001b[0m\n\u001b[1;32m    584\u001b[0m         \u001b[0;31m# - Read the simulation output data\u001b[0m\u001b[0;34m\u001b[0m\u001b[0;34m\u001b[0m\u001b[0;34m\u001b[0m\u001b[0m\n",
      "\u001b[0;31mTimeoutError\u001b[0m: Processing didn't finish for 20s. Read 0 events"
     ]
    }
   ],
   "source": [
    "n_0 = 0\n",
    "n_1 = 0\n",
    "consequence_list = []\n",
    "for data,label in tqdm(spiking_test_dataloader,colour='yellow'):\n",
    "    net.reset_state()\n",
    "    data = torch.reshape(data,(500,4))\n",
    "    data = data.numpy()\n",
    "    data = data.astype(int)\n",
    "    data = (data*20).clip(0, 15)\n",
    "    output, state, recordings = modSamna(data,record=True,read_timeout=20)\n",
    "    out = recordings['Vmem_out'].squeeze()\n",
    "    # print(np.any(out))\n",
    "    peaks = out.max(0)\n",
    "    result = peaks.argmax()\n",
    "    print('peaks:',peaks)\n",
    "    print('result:',result)\n",
    "    print('label:',label)\n",
    "    if result.item() == 0:\n",
    "        n_0  += 1\n",
    "    if result.item() == 1:\n",
    "        n_1  += 1\n",
    "    # result.to(device)\n",
    "    consequence = (result==label.item())\n",
    "    consequence_list.append(consequence)\n",
    "    \n",
    "acc = sum(consequence_list)/len(consequence_list)\n",
    "print(f'accuracy:{acc}')\n",
    "print(f'number of zero:{n_0}，number of one:{n_1}')"
   ]
  },
  {
   "cell_type": "code",
   "execution_count": null,
   "metadata": {},
   "outputs": [],
   "source": []
  }
 ],
 "metadata": {
  "kernelspec": {
   "display_name": "Python 3.8.15 ('eeg')",
   "language": "python",
   "name": "python3"
  },
  "language_info": {
   "codemirror_mode": {
    "name": "ipython",
    "version": 3
   },
   "file_extension": ".py",
   "mimetype": "text/x-python",
   "name": "python",
   "nbconvert_exporter": "python",
   "pygments_lexer": "ipython3",
   "version": "3.8.15"
  },
  "orig_nbformat": 4,
  "vscode": {
   "interpreter": {
    "hash": "116c099d514f5a0cf6c8ff7b21b194537a97a3a5d2e0501ce314bfabb013c484"
   }
  }
 },
 "nbformat": 4,
 "nbformat_minor": 2
}
